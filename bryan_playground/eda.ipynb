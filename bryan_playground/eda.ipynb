{
 "cells": [
  {
   "cell_type": "code",
   "execution_count": 2,
   "metadata": {},
   "outputs": [],
   "source": [
    "import tensorflow as tf\n",
    "import tensorflow_decision_forests as tfdf\n",
    "import pandas as pd\n",
    "import numpy as np\n",
    "import seaborn as sns\n",
    "import matplotlib.pyplot as plt\n",
    "\n",
    "from sklearn.model_selection import KFold\n",
    "\n",
    "%matplotlib inline\n",
    "%config InlineBackend.figure_format = 'retina'"
   ]
  },
  {
   "attachments": {},
   "cell_type": "markdown",
   "metadata": {},
   "source": [
    "# Load Training data"
   ]
  },
  {
   "cell_type": "code",
   "execution_count": 3,
   "metadata": {},
   "outputs": [
    {
     "data": {
      "text/html": [
       "<div>\n",
       "<style scoped>\n",
       "    .dataframe tbody tr th:only-of-type {\n",
       "        vertical-align: middle;\n",
       "    }\n",
       "\n",
       "    .dataframe tbody tr th {\n",
       "        vertical-align: top;\n",
       "    }\n",
       "\n",
       "    .dataframe thead th {\n",
       "        text-align: right;\n",
       "    }\n",
       "</style>\n",
       "<table border=\"1\" class=\"dataframe\">\n",
       "  <thead>\n",
       "    <tr style=\"text-align: right;\">\n",
       "      <th></th>\n",
       "      <th>Id</th>\n",
       "      <th>AB</th>\n",
       "      <th>AF</th>\n",
       "      <th>AH</th>\n",
       "      <th>AM</th>\n",
       "      <th>AR</th>\n",
       "      <th>AX</th>\n",
       "      <th>AY</th>\n",
       "      <th>AZ</th>\n",
       "      <th>BC</th>\n",
       "      <th>...</th>\n",
       "      <th>FL</th>\n",
       "      <th>FR</th>\n",
       "      <th>FS</th>\n",
       "      <th>GB</th>\n",
       "      <th>GE</th>\n",
       "      <th>GF</th>\n",
       "      <th>GH</th>\n",
       "      <th>GI</th>\n",
       "      <th>GL</th>\n",
       "      <th>Class</th>\n",
       "    </tr>\n",
       "  </thead>\n",
       "  <tbody>\n",
       "    <tr>\n",
       "      <th>0</th>\n",
       "      <td>000ff2bfdfe9</td>\n",
       "      <td>0.209377</td>\n",
       "      <td>3109.03329</td>\n",
       "      <td>85.200147</td>\n",
       "      <td>22.394407</td>\n",
       "      <td>8.138688</td>\n",
       "      <td>0.699861</td>\n",
       "      <td>0.025578</td>\n",
       "      <td>9.812214</td>\n",
       "      <td>5.555634</td>\n",
       "      <td>...</td>\n",
       "      <td>7.298162</td>\n",
       "      <td>1.73855</td>\n",
       "      <td>0.094822</td>\n",
       "      <td>11.339138</td>\n",
       "      <td>72.611063</td>\n",
       "      <td>2003.810319</td>\n",
       "      <td>22.136229</td>\n",
       "      <td>69.834944</td>\n",
       "      <td>0.120343</td>\n",
       "      <td>1</td>\n",
       "    </tr>\n",
       "    <tr>\n",
       "      <th>1</th>\n",
       "      <td>007255e47698</td>\n",
       "      <td>0.145282</td>\n",
       "      <td>978.76416</td>\n",
       "      <td>85.200147</td>\n",
       "      <td>36.968889</td>\n",
       "      <td>8.138688</td>\n",
       "      <td>3.632190</td>\n",
       "      <td>0.025578</td>\n",
       "      <td>13.517790</td>\n",
       "      <td>1.229900</td>\n",
       "      <td>...</td>\n",
       "      <td>0.173229</td>\n",
       "      <td>0.49706</td>\n",
       "      <td>0.568932</td>\n",
       "      <td>9.292698</td>\n",
       "      <td>72.611063</td>\n",
       "      <td>27981.562750</td>\n",
       "      <td>29.135430</td>\n",
       "      <td>32.131996</td>\n",
       "      <td>21.978000</td>\n",
       "      <td>0</td>\n",
       "    </tr>\n",
       "    <tr>\n",
       "      <th>2</th>\n",
       "      <td>013f2bd269f5</td>\n",
       "      <td>0.470030</td>\n",
       "      <td>2635.10654</td>\n",
       "      <td>85.200147</td>\n",
       "      <td>32.360553</td>\n",
       "      <td>8.138688</td>\n",
       "      <td>6.732840</td>\n",
       "      <td>0.025578</td>\n",
       "      <td>12.824570</td>\n",
       "      <td>1.229900</td>\n",
       "      <td>...</td>\n",
       "      <td>7.709560</td>\n",
       "      <td>0.97556</td>\n",
       "      <td>1.198821</td>\n",
       "      <td>37.077772</td>\n",
       "      <td>88.609437</td>\n",
       "      <td>13676.957810</td>\n",
       "      <td>28.022851</td>\n",
       "      <td>35.192676</td>\n",
       "      <td>0.196941</td>\n",
       "      <td>0</td>\n",
       "    </tr>\n",
       "    <tr>\n",
       "      <th>3</th>\n",
       "      <td>043ac50845d5</td>\n",
       "      <td>0.252107</td>\n",
       "      <td>3819.65177</td>\n",
       "      <td>120.201618</td>\n",
       "      <td>77.112203</td>\n",
       "      <td>8.138688</td>\n",
       "      <td>3.685344</td>\n",
       "      <td>0.025578</td>\n",
       "      <td>11.053708</td>\n",
       "      <td>1.229900</td>\n",
       "      <td>...</td>\n",
       "      <td>6.122162</td>\n",
       "      <td>0.49706</td>\n",
       "      <td>0.284466</td>\n",
       "      <td>18.529584</td>\n",
       "      <td>82.416803</td>\n",
       "      <td>2094.262452</td>\n",
       "      <td>39.948656</td>\n",
       "      <td>90.493248</td>\n",
       "      <td>0.155829</td>\n",
       "      <td>0</td>\n",
       "    </tr>\n",
       "    <tr>\n",
       "      <th>4</th>\n",
       "      <td>044fb8a146ec</td>\n",
       "      <td>0.380297</td>\n",
       "      <td>3733.04844</td>\n",
       "      <td>85.200147</td>\n",
       "      <td>14.103738</td>\n",
       "      <td>8.138688</td>\n",
       "      <td>3.942255</td>\n",
       "      <td>0.054810</td>\n",
       "      <td>3.396778</td>\n",
       "      <td>102.151980</td>\n",
       "      <td>...</td>\n",
       "      <td>8.153058</td>\n",
       "      <td>48.50134</td>\n",
       "      <td>0.121914</td>\n",
       "      <td>16.408728</td>\n",
       "      <td>146.109943</td>\n",
       "      <td>8524.370502</td>\n",
       "      <td>45.381316</td>\n",
       "      <td>36.262628</td>\n",
       "      <td>0.096614</td>\n",
       "      <td>1</td>\n",
       "    </tr>\n",
       "  </tbody>\n",
       "</table>\n",
       "<p>5 rows × 58 columns</p>\n",
       "</div>"
      ],
      "text/plain": [
       "             Id        AB          AF          AH         AM        AR   \n",
       "0  000ff2bfdfe9  0.209377  3109.03329   85.200147  22.394407  8.138688  \\\n",
       "1  007255e47698  0.145282   978.76416   85.200147  36.968889  8.138688   \n",
       "2  013f2bd269f5  0.470030  2635.10654   85.200147  32.360553  8.138688   \n",
       "3  043ac50845d5  0.252107  3819.65177  120.201618  77.112203  8.138688   \n",
       "4  044fb8a146ec  0.380297  3733.04844   85.200147  14.103738  8.138688   \n",
       "\n",
       "         AX        AY         AZ          BC  ...        FL        FR   \n",
       "0  0.699861  0.025578   9.812214    5.555634  ...  7.298162   1.73855  \\\n",
       "1  3.632190  0.025578  13.517790    1.229900  ...  0.173229   0.49706   \n",
       "2  6.732840  0.025578  12.824570    1.229900  ...  7.709560   0.97556   \n",
       "3  3.685344  0.025578  11.053708    1.229900  ...  6.122162   0.49706   \n",
       "4  3.942255  0.054810   3.396778  102.151980  ...  8.153058  48.50134   \n",
       "\n",
       "         FS         GB          GE            GF         GH         GI   \n",
       "0  0.094822  11.339138   72.611063   2003.810319  22.136229  69.834944  \\\n",
       "1  0.568932   9.292698   72.611063  27981.562750  29.135430  32.131996   \n",
       "2  1.198821  37.077772   88.609437  13676.957810  28.022851  35.192676   \n",
       "3  0.284466  18.529584   82.416803   2094.262452  39.948656  90.493248   \n",
       "4  0.121914  16.408728  146.109943   8524.370502  45.381316  36.262628   \n",
       "\n",
       "          GL  Class  \n",
       "0   0.120343      1  \n",
       "1  21.978000      0  \n",
       "2   0.196941      0  \n",
       "3   0.155829      0  \n",
       "4   0.096614      1  \n",
       "\n",
       "[5 rows x 58 columns]"
      ]
     },
     "execution_count": 3,
     "metadata": {},
     "output_type": "execute_result"
    }
   ],
   "source": [
    "df = pd.read_csv('/Users/bryanburzon/School/DS207/mids-207-final-project-summer23-Burzon-Brown-Caldera-Gomez/icr-identify-age-related-conditions/train.csv')\n",
    "df.head()"
   ]
  },
  {
   "attachments": {},
   "cell_type": "markdown",
   "metadata": {},
   "source": [
    "### Data Types"
   ]
  },
  {
   "cell_type": "code",
   "execution_count": 49,
   "metadata": {},
   "outputs": [
    {
     "data": {
      "text/plain": [
       "Id        object\n",
       "AB       float64\n",
       "AF       float64\n",
       "AH       float64\n",
       "AM       float64\n",
       "AR       float64\n",
       "AX       float64\n",
       "AY       float64\n",
       "AZ       float64\n",
       "BC       float64\n",
       "BD       float64\n",
       "BN       float64\n",
       "BP       float64\n",
       "BQ       float64\n",
       "BR       float64\n",
       "BZ       float64\n",
       "CB       float64\n",
       "CC       float64\n",
       "CD       float64\n",
       "CF       float64\n",
       "CH       float64\n",
       "CL       float64\n",
       "CR       float64\n",
       "CS       float64\n",
       "CU       float64\n",
       "CW       float64\n",
       "DA       float64\n",
       "DE       float64\n",
       "DF       float64\n",
       "DH       float64\n",
       "DI       float64\n",
       "DL       float64\n",
       "DN       float64\n",
       "DU       float64\n",
       "DV       float64\n",
       "DY       float64\n",
       "EB       float64\n",
       "EE       float64\n",
       "EG       float64\n",
       "EH       float64\n",
       "EJ        object\n",
       "EL       float64\n",
       "EP       float64\n",
       "EU       float64\n",
       "FC       float64\n",
       "FD       float64\n",
       "FE       float64\n",
       "FI       float64\n",
       "FL       float64\n",
       "FR       float64\n",
       "FS       float64\n",
       "GB       float64\n",
       "GE       float64\n",
       "GF       float64\n",
       "GH       float64\n",
       "GI       float64\n",
       "GL       float64\n",
       "Class      int64\n",
       "dtype: object"
      ]
     },
     "execution_count": 49,
     "metadata": {},
     "output_type": "execute_result"
    }
   ],
   "source": [
    "df.dtypes"
   ]
  },
  {
   "cell_type": "code",
   "execution_count": 50,
   "metadata": {},
   "outputs": [
    {
     "data": {
      "text/plain": [
       "0      B\n",
       "1      A\n",
       "2      B\n",
       "3      B\n",
       "4      B\n",
       "      ..\n",
       "612    A\n",
       "613    B\n",
       "614    A\n",
       "615    B\n",
       "616    A\n",
       "Name: EJ, Length: 617, dtype: object"
      ]
     },
     "execution_count": 50,
     "metadata": {},
     "output_type": "execute_result"
    }
   ],
   "source": [
    "df[\"EJ\"]"
   ]
  },
  {
   "attachments": {},
   "cell_type": "markdown",
   "metadata": {},
   "source": [
    "### Shape"
   ]
  },
  {
   "cell_type": "code",
   "execution_count": 10,
   "metadata": {},
   "outputs": [
    {
     "data": {
      "text/plain": [
       "(617, 58)"
      ]
     },
     "execution_count": 10,
     "metadata": {},
     "output_type": "execute_result"
    }
   ],
   "source": [
    "df.shape"
   ]
  },
  {
   "attachments": {},
   "cell_type": "markdown",
   "metadata": {},
   "source": [
    "### Columns "
   ]
  },
  {
   "cell_type": "code",
   "execution_count": 12,
   "metadata": {},
   "outputs": [
    {
     "data": {
      "text/plain": [
       "['Id',\n",
       " 'AB',\n",
       " 'AF',\n",
       " 'AH',\n",
       " 'AM',\n",
       " 'AR',\n",
       " 'AX',\n",
       " 'AY',\n",
       " 'AZ',\n",
       " 'BC',\n",
       " 'BD ',\n",
       " 'BN',\n",
       " 'BP',\n",
       " 'BQ',\n",
       " 'BR',\n",
       " 'BZ',\n",
       " 'CB',\n",
       " 'CC',\n",
       " 'CD ',\n",
       " 'CF',\n",
       " 'CH',\n",
       " 'CL',\n",
       " 'CR',\n",
       " 'CS',\n",
       " 'CU',\n",
       " 'CW ',\n",
       " 'DA',\n",
       " 'DE',\n",
       " 'DF',\n",
       " 'DH',\n",
       " 'DI',\n",
       " 'DL',\n",
       " 'DN',\n",
       " 'DU',\n",
       " 'DV',\n",
       " 'DY',\n",
       " 'EB',\n",
       " 'EE',\n",
       " 'EG',\n",
       " 'EH',\n",
       " 'EJ',\n",
       " 'EL',\n",
       " 'EP',\n",
       " 'EU',\n",
       " 'FC',\n",
       " 'FD ',\n",
       " 'FE',\n",
       " 'FI',\n",
       " 'FL',\n",
       " 'FR',\n",
       " 'FS',\n",
       " 'GB',\n",
       " 'GE',\n",
       " 'GF',\n",
       " 'GH',\n",
       " 'GI',\n",
       " 'GL',\n",
       " 'Class']"
      ]
     },
     "execution_count": 12,
     "metadata": {},
     "output_type": "execute_result"
    }
   ],
   "source": [
    "columns = df.columns.tolist()\n",
    "columns"
   ]
  },
  {
   "attachments": {},
   "cell_type": "markdown",
   "metadata": {},
   "source": [
    "### Initial Summary Stat of each column "
   ]
  },
  {
   "cell_type": "code",
   "execution_count": 20,
   "metadata": {},
   "outputs": [
    {
     "data": {
      "text/plain": [
       "count    617.000000\n",
       "mean       0.477149\n",
       "std        0.468388\n",
       "min        0.081187\n",
       "25%        0.252107\n",
       "50%        0.354659\n",
       "75%        0.559763\n",
       "max        6.161666\n",
       "Name: AB, dtype: float64"
      ]
     },
     "execution_count": 20,
     "metadata": {},
     "output_type": "execute_result"
    }
   ],
   "source": [
    "df.describe()"
   ]
  },
  {
   "attachments": {},
   "cell_type": "markdown",
   "metadata": {},
   "source": [
    "### Count NA"
   ]
  },
  {
   "cell_type": "code",
   "execution_count": 37,
   "metadata": {},
   "outputs": [
    {
     "data": {
      "text/plain": [
       "BQ    60\n",
       "CB     2\n",
       "CC     3\n",
       "DU     1\n",
       "EL    60\n",
       "FC     1\n",
       "FL     1\n",
       "FS     2\n",
       "GL     1\n",
       "dtype: int64"
      ]
     },
     "execution_count": 37,
     "metadata": {},
     "output_type": "execute_result"
    }
   ],
   "source": [
    "col_with_NA = df.isna().sum() > 0\n",
    "col_with_NA[col_with_NA ==True]\n",
    "\n",
    "#col_with_NA.index.to_list()\n",
    "na_col = col_with_NA[col_with_NA ==True].index.to_list()\n",
    "\n",
    "df[na_col].isna().sum()"
   ]
  },
  {
   "cell_type": "code",
   "execution_count": 7,
   "metadata": {},
   "outputs": [
    {
     "data": {
      "image/png": "[encoded data removed]",
      "text/plain": [
       "<Figure size 640x480 with 1 Axes>"
      ]
     },
     "metadata": {
      "image/png": {
       "height": 469,
       "width": 630
      }
     },
     "output_type": "display_data"
    }
   ],
   "source": [
    "# Assuming you have a dataframe named 'df'\n",
    "# Create a list to store the column names\n",
    "columns = df.columns.tolist()\n",
    "\n",
    "# Create empty lists to store the counts\n",
    "null_counts = []\n",
    "unique_counts = []\n",
    "\n",
    "# Iterate through each column in the dataframe\n",
    "for column in columns:\n",
    "    null_count = df[column].isnull().sum()  # Count the number of null values in the column\n",
    "    unique_count = df[column].nunique()  # Count the number of unique values in the column\n",
    "    \n",
    "    null_counts.append(null_count)\n",
    "    unique_counts.append(unique_count)\n",
    "\n",
    "columns, null_counts, unique_counts = zip(*sorted(zip(columns, null_counts, unique_counts), key=lambda x: x[2], reverse=True))\n",
    "\n",
    "\n",
    "# Plotting the stacked bar chart\n",
    "x = range(len(columns))  # X-axis values\n",
    "width = 0.35  # Width of the bars\n",
    "\n",
    "fig, ax = plt.subplots()\n",
    "ax.bar(x, null_counts, width, label='Null Values')\n",
    "ax.bar(x, unique_counts, width, bottom=null_counts, label='Unique Values')\n",
    "\n",
    "ax.set_ylabel('Count')\n",
    "ax.set_xlabel('Columns')\n",
    "ax.set_title('Count of Null Values and Unique Values')\n",
    "ax.set_xticks(x)\n",
    "ax.set_xticklabels(columns, rotation=90)\n",
    "ax.legend()\n",
    "\n",
    "plt.tight_layout()\n",
    "plt.show()"
   ]
  },
  {
   "cell_type": "code",
   "execution_count": 5,
   "metadata": {},
   "outputs": [
    {
     "name": "stdout",
     "output_type": "stream",
     "text": [
      "Column 'Id' has 617 unique value(s) and has 0 null value(s).\n",
      "Column 'AB' has 217 unique value(s) and has 0 null value(s).\n",
      "Column 'AF' has 599 unique value(s) and has 0 null value(s).\n",
      "Column 'AH' has 227 unique value(s) and has 0 null value(s).\n",
      "Column 'AM' has 605 unique value(s) and has 0 null value(s).\n",
      "Column 'AR' has 130 unique value(s) and has 0 null value(s).\n",
      "Column 'AX' has 427 unique value(s) and has 0 null value(s).\n",
      "Column 'AY' has 148 unique value(s) and has 0 null value(s).\n",
      "Column 'AZ' has 484 unique value(s) and has 0 null value(s).\n",
      "Column 'BC' has 259 unique value(s) and has 0 null value(s).\n",
      "Column 'BD ' has 617 unique value(s) and has 0 null value(s).\n",
      "Column 'BN' has 53 unique value(s) and has 0 null value(s).\n",
      "Column 'BP' has 612 unique value(s) and has 0 null value(s).\n",
      "Column 'BQ' has 515 unique value(s) and has 60 null value(s).\n",
      "Column 'BR' has 566 unique value(s) and has 0 null value(s).\n",
      "Column 'BZ' has 115 unique value(s) and has 0 null value(s).\n",
      "Column 'CB' has 553 unique value(s) and has 2 null value(s).\n",
      "Column 'CC' has 602 unique value(s) and has 3 null value(s).\n",
      "Column 'CD ' has 584 unique value(s) and has 0 null value(s).\n",
      "Column 'CF' has 586 unique value(s) and has 0 null value(s).\n",
      "Column 'CH' has 135 unique value(s) and has 0 null value(s).\n",
      "Column 'CL' has 123 unique value(s) and has 0 null value(s).\n",
      "Column 'CR' has 595 unique value(s) and has 0 null value(s).\n",
      "Column 'CS' has 576 unique value(s) and has 0 null value(s).\n",
      "Column 'CU' has 307 unique value(s) and has 0 null value(s).\n",
      "Column 'CW ' has 426 unique value(s) and has 0 null value(s).\n",
      "Column 'DA' has 611 unique value(s) and has 0 null value(s).\n",
      "Column 'DE' has 616 unique value(s) and has 0 null value(s).\n",
      "Column 'DF' has 137 unique value(s) and has 0 null value(s).\n",
      "Column 'DH' has 191 unique value(s) and has 0 null value(s).\n",
      "Column 'DI' has 571 unique value(s) and has 0 null value(s).\n",
      "Column 'DL' has 604 unique value(s) and has 0 null value(s).\n",
      "Column 'DN' has 576 unique value(s) and has 0 null value(s).\n",
      "Column 'DU' has 253 unique value(s) and has 1 null value(s).\n",
      "Column 'DV' has 39 unique value(s) and has 0 null value(s).\n",
      "Column 'DY' has 590 unique value(s) and has 0 null value(s).\n",
      "Column 'EB' has 439 unique value(s) and has 0 null value(s).\n",
      "Column 'EE' has 513 unique value(s) and has 0 null value(s).\n",
      "Column 'EG' has 610 unique value(s) and has 0 null value(s).\n",
      "Column 'EH' has 127 unique value(s) and has 0 null value(s).\n",
      "Column 'EJ' has 2 unique value(s) and has 0 null value(s).\n",
      "Column 'EL' has 311 unique value(s) and has 60 null value(s).\n",
      "Column 'EP' has 275 unique value(s) and has 0 null value(s).\n",
      "Column 'EU' has 455 unique value(s) and has 0 null value(s).\n",
      "Column 'FC' has 600 unique value(s) and has 1 null value(s).\n",
      "Column 'FD ' has 337 unique value(s) and has 0 null value(s).\n",
      "Column 'FE' has 615 unique value(s) and has 0 null value(s).\n",
      "Column 'FI' has 498 unique value(s) and has 0 null value(s).\n",
      "Column 'FL' has 388 unique value(s) and has 1 null value(s).\n",
      "Column 'FR' has 435 unique value(s) and has 0 null value(s).\n",
      "Column 'FS' has 161 unique value(s) and has 2 null value(s).\n",
      "Column 'GB' has 560 unique value(s) and has 0 null value(s).\n",
      "Column 'GE' has 264 unique value(s) and has 0 null value(s).\n",
      "Column 'GF' has 611 unique value(s) and has 0 null value(s).\n",
      "Column 'GH' has 596 unique value(s) and has 0 null value(s).\n",
      "Column 'GI' has 615 unique value(s) and has 0 null value(s).\n",
      "Column 'GL' has 355 unique value(s) and has 1 null value(s).\n",
      "Column 'Class' has 2 unique value(s) and has 0 null value(s).\n"
     ]
    }
   ],
   "source": [
    "for column in df.columns:\n",
    "    unique_count = df[column].nunique()  # Count the number of unique values in the column\n",
    "    null_count = df[column].isnull().sum()\n",
    "    print(f\"Column '{column}' has {unique_count} unique value(s) and has {null_count} null value(s).\")"
   ]
  },
  {
   "cell_type": "code",
   "execution_count": 13,
   "metadata": {},
   "outputs": [
    {
     "data": {
      "text/html": [
       "<div>\n",
       "<style scoped>\n",
       "    .dataframe tbody tr th:only-of-type {\n",
       "        vertical-align: middle;\n",
       "    }\n",
       "\n",
       "    .dataframe tbody tr th {\n",
       "        vertical-align: top;\n",
       "    }\n",
       "\n",
       "    .dataframe thead th {\n",
       "        text-align: right;\n",
       "    }\n",
       "</style>\n",
       "<table border=\"1\" class=\"dataframe\">\n",
       "  <thead>\n",
       "    <tr style=\"text-align: right;\">\n",
       "      <th></th>\n",
       "      <th>BD</th>\n",
       "      <th>Id</th>\n",
       "    </tr>\n",
       "  </thead>\n",
       "  <tbody>\n",
       "    <tr>\n",
       "      <th>221</th>\n",
       "      <td>1693.62432</td>\n",
       "      <td>58e74efe7aa5</td>\n",
       "    </tr>\n",
       "    <tr>\n",
       "      <th>205</th>\n",
       "      <td>2103.14378</td>\n",
       "      <td>4fef9a973791</td>\n",
       "    </tr>\n",
       "    <tr>\n",
       "      <th>146</th>\n",
       "      <td>2141.75945</td>\n",
       "      <td>3a288ec2811f</td>\n",
       "    </tr>\n",
       "    <tr>\n",
       "      <th>132</th>\n",
       "      <td>2156.50899</td>\n",
       "      <td>34dc3190c6fb</td>\n",
       "    </tr>\n",
       "    <tr>\n",
       "      <th>174</th>\n",
       "      <td>2185.25701</td>\n",
       "      <td>4401d2485580</td>\n",
       "    </tr>\n",
       "    <tr>\n",
       "      <th>...</th>\n",
       "      <td>...</td>\n",
       "      <td>...</td>\n",
       "    </tr>\n",
       "    <tr>\n",
       "      <th>14</th>\n",
       "      <td>10563.27538</td>\n",
       "      <td>075bd937ab85</td>\n",
       "    </tr>\n",
       "    <tr>\n",
       "      <th>11</th>\n",
       "      <td>12083.34891</td>\n",
       "      <td>06554e7b9979</td>\n",
       "    </tr>\n",
       "    <tr>\n",
       "      <th>150</th>\n",
       "      <td>27276.36188</td>\n",
       "      <td>3bbe922b2cdb</td>\n",
       "    </tr>\n",
       "    <tr>\n",
       "      <th>10</th>\n",
       "      <td>43882.27850</td>\n",
       "      <td>06055f3f6785</td>\n",
       "    </tr>\n",
       "    <tr>\n",
       "      <th>378</th>\n",
       "      <td>53060.59924</td>\n",
       "      <td>9230d1831db3</td>\n",
       "    </tr>\n",
       "  </tbody>\n",
       "</table>\n",
       "<p>617 rows × 2 columns</p>\n",
       "</div>"
      ],
      "text/plain": [
       "             BD             Id\n",
       "221   1693.62432  58e74efe7aa5\n",
       "205   2103.14378  4fef9a973791\n",
       "146   2141.75945  3a288ec2811f\n",
       "132   2156.50899  34dc3190c6fb\n",
       "174   2185.25701  4401d2485580\n",
       "..           ...           ...\n",
       "14   10563.27538  075bd937ab85\n",
       "11   12083.34891  06554e7b9979\n",
       "150  27276.36188  3bbe922b2cdb\n",
       "10   43882.27850  06055f3f6785\n",
       "378  53060.59924  9230d1831db3\n",
       "\n",
       "[617 rows x 2 columns]"
      ]
     },
     "execution_count": 13,
     "metadata": {},
     "output_type": "execute_result"
    }
   ],
   "source": [
    "df[['BD ', 'Id']].sort_values('BD ')"
   ]
  },
  {
   "attachments": {},
   "cell_type": "markdown",
   "metadata": {},
   "source": [
    "### Correlation "
   ]
  },
  {
   "cell_type": "code",
   "execution_count": 64,
   "metadata": {},
   "outputs": [
    {
     "data": {
      "image/png": "[encoded data removed]",
      "text/plain": [
       "<Figure size 640x480 with 2 Axes>"
      ]
     },
     "metadata": {
      "image/png": {
       "height": 412,
       "width": 488
      }
     },
     "output_type": "display_data"
    }
   ],
   "source": [
    "df_without_EJ_class =df.drop('EJ', axis=1)\n",
    "df_without_EJ_class = df_without_EJ_class.drop('Class', axis=1)\n",
    "\n",
    "coor_matrix = df_without_EJ_class.iloc[:,1:].corr()\n",
    "\n",
    "sns.heatmap(coor_matrix, annot=False, cmap='coolwarm', fmt='.2f')\n",
    "plt.rcParams['font.size'] = 2\n",
    "plt.title('Correlation Heatmap')\n",
    "plt.show()\n",
    "\n"
   ]
  }
 ],
 "metadata": {
  "kernelspec": {
   "display_name": "base",
   "language": "python",
   "name": "python3"
  },
  "language_info": {
   "codemirror_mode": {
    "name": "ipython",
    "version": 3
   },
   "file_extension": ".py",
   "mimetype": "text/x-python",
   "name": "python",
   "nbconvert_exporter": "python",
   "pygments_lexer": "ipython3",
   "version": "3.10.11"
  },
  "orig_nbformat": 4
 },
 "nbformat": 4,
 "nbformat_minor": 2
}
