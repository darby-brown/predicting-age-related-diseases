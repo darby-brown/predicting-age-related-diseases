{
 "cells": [
  {
   "cell_type": "markdown",
   "metadata": {},
   "source": [
    "# Random thoughts from the kaggle discussion board\n",
    "\n",
    "1. EJ can be excluded\n",
    "2. BN is likely age\n",
    "3. Balanced log-loss function and how to test it\n",
    "4. Integerized columns? "
   ]
  },
  {
   "cell_type": "code",
   "execution_count": null,
   "metadata": {},
   "outputs": [],
   "source": [
    "#balanced log loss\n",
    "def balanced_log_loss(y_true, y_pred):\n",
    "    nc = np.bincount(y_true)\n",
    "    return log_loss(y_true, y_pred, sample_weight = 1/nc[y_true], eps=1e-15)"
   ]
  },
  {
   "cell_type": "code",
   "execution_count": null,
   "metadata": {},
   "outputs": [],
   "source": [
    "#how to test it (expected score for zeros: 17.2694, score for ones: 17.2698)\n",
    "array = np.zeros(len(y_train))\n",
    "print(f\"score for zeros: {balanced_log_loss(y_train, array):.4f}\")\n",
    "array = np.ones(len(y_train))\n",
    "print(f\"score for ones: {balanced_log_loss(y_train, array):.4f}\")"
   ]
  }
 ],
 "metadata": {
  "language_info": {
   "name": "python"
  },
  "orig_nbformat": 4
 },
 "nbformat": 4,
 "nbformat_minor": 2
}
