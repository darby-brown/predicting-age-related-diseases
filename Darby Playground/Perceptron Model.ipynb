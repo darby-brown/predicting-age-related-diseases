{
 "cells": [
  {
   "cell_type": "markdown",
   "metadata": {},
   "source": [
    "# ICR - Identifying Age-Related Conditions Dataset with TensorFlow Decision Forests"
   ]
  },
  {
   "cell_type": "markdown",
   "metadata": {},
   "source": [
    "The goal of this modeling is to predict if a person has one or more of any of three medical conditions or none.\n",
    "\n",
    "Rough breakdown of notebook contents:\n",
    "\n",
    "1. Import libraries\n",
    "2. Load Data\n",
    "3. EDA\n",
    "4. Data cleaning and preprocessing"
   ]
  },
  {
   "cell_type": "markdown",
   "metadata": {},
   "source": [
    "### Summary of Modeling Choices\n",
    "\n",
    "<table>\n",
    "  <tr>\n",
    "    <th style=\"text-align:left;\">Choice</th>\n",
    "    <th style=\"text-align:left;\">Details</th>\n",
    "  </tr>\n",
    "  <tr>\n",
    "    <td style=\"text-align:left;\">Data Preprocessing</td>\n",
    "    <td style=\"text-align:left;\">training only (no greeks)</td>\n",
    "  </tr>\n",
    "  <tr>\n",
    "    <td style=\"text-align:left;\">Split</td>\n",
    "    <td style=\"text-align:left;\">random 80-20 (no time dependency)</td>\n",
    "  </tr>\n",
    "  <tr>\n",
    "    <td style=\"text-align:left;\">Class Imbalance Mitigation</td>\n",
    "    <td style=\"text-align:left;\">Class weights (also need to try downsampling)</td>\n",
    "  </tr>\n",
    "  <tr>\n",
    "    <td style=\"text-align:left;\">Feature Normalization</td>\n",
    "    <td style=\"text-align:left;\">random 80-20</td>\n",
    "  </tr>\n",
    "  <tr>\n",
    "    <td style=\"text-align:left;\">Metric</td>\n",
    "    <td style=\"text-align:left;\">ROC-AUC</td>\n",
    "  </tr>\n",
    "</table>"
   ]
  },
  {
   "cell_type": "markdown",
   "metadata": {},
   "source": [
    "# 1. Import Libraries"
   ]
  },
  {
   "cell_type": "code",
   "execution_count": 1,
   "metadata": {},
   "outputs": [
    {
     "name": "stderr",
     "output_type": "stream",
     "text": [
      "2023-08-06 14:17:32.232217: I tensorflow/core/platform/cpu_feature_guard.cc:182] This TensorFlow binary is optimized to use available CPU instructions in performance-critical operations.\n",
      "To enable the following instructions: SSE4.1 SSE4.2, in other operations, rebuild TensorFlow with the appropriate compiler flags.\n"
     ]
    }
   ],
   "source": [
    "import tensorflow as tf\n",
    "import pandas as pd\n",
    "import numpy as np\n",
    "import seaborn as sns\n",
    "import matplotlib.pyplot as plt\n",
    "import os\n",
    "from keras import metrics\n",
    "\n",
    "from sklearn.impute import SimpleImputer\n",
    "from sklearn.model_selection import train_test_split\n",
    "from sklearn.utils import resample\n",
    "\n",
    "from mlxtend.plotting import scatterplotmatrix\n",
    "from mlxtend.plotting import heatmap\n",
    "\n",
    "#improve figure resolution\n",
    "%matplotlib inline \n",
    "%config InlineBackend.figure_format = 'retina'\n",
    "\n",
    "\n",
    "pd.set_option('display.max_columns', None) #show all columns\n",
    "pd.set_option('display.max_rows', None) #show all rows"
   ]
  },
  {
   "cell_type": "code",
   "execution_count": 2,
   "metadata": {
    "execution": {
     "iopub.execute_input": "2023-06-05T09:40:32.841063Z",
     "iopub.status.busy": "2023-06-05T09:40:32.840599Z",
     "iopub.status.idle": "2023-06-05T09:40:32.857003Z",
     "shell.execute_reply": "2023-06-05T09:40:32.855717Z",
     "shell.execute_reply.started": "2023-06-05T09:40:32.84102Z"
    },
    "scrolled": true
   },
   "outputs": [
    {
     "name": "stdout",
     "output_type": "stream",
     "text": [
      "TensorFlow v2.12.0\n"
     ]
    }
   ],
   "source": [
    "print(\"TensorFlow v\" + tf.__version__)"
   ]
  },
  {
   "cell_type": "markdown",
   "metadata": {},
   "source": [
    "# 2. Load Data"
   ]
  },
  {
   "cell_type": "code",
   "execution_count": 3,
   "metadata": {
    "execution": {
     "iopub.execute_input": "2023-06-05T09:40:32.859576Z",
     "iopub.status.busy": "2023-06-05T09:40:32.858536Z",
     "iopub.status.idle": "2023-06-05T09:40:32.885445Z",
     "shell.execute_reply": "2023-06-05T09:40:32.884292Z",
     "shell.execute_reply.started": "2023-06-05T09:40:32.859534Z"
    }
   },
   "outputs": [
    {
     "name": "stdout",
     "output_type": "stream",
     "text": [
      "Full train dataset shape is (617, 58)\n"
     ]
    }
   ],
   "source": [
    "data = pd.read_csv('../icr-identify-age-related-conditions/train.csv')\n",
    "print(\"Full train dataset shape is {}\".format(data.shape))"
   ]
  },
  {
   "cell_type": "markdown",
   "metadata": {},
   "source": [
    "The data is composed of 58 columns and 617 entries. We can see all 58 dimensions(results will be truncated since the number of columns is big) of our dataset by printing out the first 5 entries using the following code:"
   ]
  },
  {
   "cell_type": "code",
   "execution_count": 4,
   "metadata": {
    "execution": {
     "iopub.execute_input": "2023-06-05T09:40:32.889143Z",
     "iopub.status.busy": "2023-06-05T09:40:32.888408Z",
     "iopub.status.idle": "2023-06-05T09:40:32.917468Z",
     "shell.execute_reply": "2023-06-05T09:40:32.916102Z",
     "shell.execute_reply.started": "2023-06-05T09:40:32.889103Z"
    },
    "scrolled": true
   },
   "outputs": [
    {
     "data": {
      "text/html": [
       "<div>\n",
       "<style scoped>\n",
       "    .dataframe tbody tr th:only-of-type {\n",
       "        vertical-align: middle;\n",
       "    }\n",
       "\n",
       "    .dataframe tbody tr th {\n",
       "        vertical-align: top;\n",
       "    }\n",
       "\n",
       "    .dataframe thead th {\n",
       "        text-align: right;\n",
       "    }\n",
       "</style>\n",
       "<table border=\"1\" class=\"dataframe\">\n",
       "  <thead>\n",
       "    <tr style=\"text-align: right;\">\n",
       "      <th></th>\n",
       "      <th>Id</th>\n",
       "      <th>AB</th>\n",
       "      <th>AF</th>\n",
       "      <th>AH</th>\n",
       "      <th>AM</th>\n",
       "      <th>AR</th>\n",
       "      <th>AX</th>\n",
       "      <th>AY</th>\n",
       "      <th>AZ</th>\n",
       "      <th>BC</th>\n",
       "      <th>BD</th>\n",
       "      <th>BN</th>\n",
       "      <th>BP</th>\n",
       "      <th>BQ</th>\n",
       "      <th>BR</th>\n",
       "      <th>BZ</th>\n",
       "      <th>CB</th>\n",
       "      <th>CC</th>\n",
       "      <th>CD</th>\n",
       "      <th>CF</th>\n",
       "      <th>CH</th>\n",
       "      <th>CL</th>\n",
       "      <th>CR</th>\n",
       "      <th>CS</th>\n",
       "      <th>CU</th>\n",
       "      <th>CW</th>\n",
       "      <th>DA</th>\n",
       "      <th>DE</th>\n",
       "      <th>DF</th>\n",
       "      <th>DH</th>\n",
       "      <th>DI</th>\n",
       "      <th>DL</th>\n",
       "      <th>DN</th>\n",
       "      <th>DU</th>\n",
       "      <th>DV</th>\n",
       "      <th>DY</th>\n",
       "      <th>EB</th>\n",
       "      <th>EE</th>\n",
       "      <th>EG</th>\n",
       "      <th>EH</th>\n",
       "      <th>EJ</th>\n",
       "      <th>EL</th>\n",
       "      <th>EP</th>\n",
       "      <th>EU</th>\n",
       "      <th>FC</th>\n",
       "      <th>FD</th>\n",
       "      <th>FE</th>\n",
       "      <th>FI</th>\n",
       "      <th>FL</th>\n",
       "      <th>FR</th>\n",
       "      <th>FS</th>\n",
       "      <th>GB</th>\n",
       "      <th>GE</th>\n",
       "      <th>GF</th>\n",
       "      <th>GH</th>\n",
       "      <th>GI</th>\n",
       "      <th>GL</th>\n",
       "      <th>Class</th>\n",
       "    </tr>\n",
       "  </thead>\n",
       "  <tbody>\n",
       "    <tr>\n",
       "      <th>0</th>\n",
       "      <td>000ff2bfdfe9</td>\n",
       "      <td>0.209377</td>\n",
       "      <td>3109.03329</td>\n",
       "      <td>85.200147</td>\n",
       "      <td>22.394407</td>\n",
       "      <td>8.138688</td>\n",
       "      <td>0.699861</td>\n",
       "      <td>0.025578</td>\n",
       "      <td>9.812214</td>\n",
       "      <td>5.555634</td>\n",
       "      <td>4126.58731</td>\n",
       "      <td>22.5984</td>\n",
       "      <td>175.638726</td>\n",
       "      <td>152.707705</td>\n",
       "      <td>823.928241</td>\n",
       "      <td>257.432377</td>\n",
       "      <td>47.223358</td>\n",
       "      <td>0.563481</td>\n",
       "      <td>23.387600</td>\n",
       "      <td>4.851915</td>\n",
       "      <td>0.023482</td>\n",
       "      <td>1.050225</td>\n",
       "      <td>0.069225</td>\n",
       "      <td>13.784111</td>\n",
       "      <td>1.302012</td>\n",
       "      <td>36.205956</td>\n",
       "      <td>69.08340</td>\n",
       "      <td>295.570575</td>\n",
       "      <td>0.23868</td>\n",
       "      <td>0.284232</td>\n",
       "      <td>89.245560</td>\n",
       "      <td>84.31664</td>\n",
       "      <td>29.657104</td>\n",
       "      <td>5.310690</td>\n",
       "      <td>1.74307</td>\n",
       "      <td>23.187704</td>\n",
       "      <td>7.294176</td>\n",
       "      <td>1.987283</td>\n",
       "      <td>1433.166750</td>\n",
       "      <td>0.949104</td>\n",
       "      <td>B</td>\n",
       "      <td>30.879420</td>\n",
       "      <td>78.526968</td>\n",
       "      <td>3.828384</td>\n",
       "      <td>13.394640</td>\n",
       "      <td>10.265073</td>\n",
       "      <td>9028.291921</td>\n",
       "      <td>3.583450</td>\n",
       "      <td>7.298162</td>\n",
       "      <td>1.73855</td>\n",
       "      <td>0.094822</td>\n",
       "      <td>11.339138</td>\n",
       "      <td>72.611063</td>\n",
       "      <td>2003.810319</td>\n",
       "      <td>22.136229</td>\n",
       "      <td>69.834944</td>\n",
       "      <td>0.120343</td>\n",
       "      <td>1</td>\n",
       "    </tr>\n",
       "    <tr>\n",
       "      <th>1</th>\n",
       "      <td>007255e47698</td>\n",
       "      <td>0.145282</td>\n",
       "      <td>978.76416</td>\n",
       "      <td>85.200147</td>\n",
       "      <td>36.968889</td>\n",
       "      <td>8.138688</td>\n",
       "      <td>3.632190</td>\n",
       "      <td>0.025578</td>\n",
       "      <td>13.517790</td>\n",
       "      <td>1.229900</td>\n",
       "      <td>5496.92824</td>\n",
       "      <td>19.4205</td>\n",
       "      <td>155.868030</td>\n",
       "      <td>14.754720</td>\n",
       "      <td>51.216883</td>\n",
       "      <td>257.432377</td>\n",
       "      <td>30.284345</td>\n",
       "      <td>0.484710</td>\n",
       "      <td>50.628208</td>\n",
       "      <td>6.085041</td>\n",
       "      <td>0.031442</td>\n",
       "      <td>1.113875</td>\n",
       "      <td>1.117800</td>\n",
       "      <td>28.310953</td>\n",
       "      <td>1.357182</td>\n",
       "      <td>37.476568</td>\n",
       "      <td>70.79836</td>\n",
       "      <td>178.553100</td>\n",
       "      <td>0.23868</td>\n",
       "      <td>0.363489</td>\n",
       "      <td>110.581815</td>\n",
       "      <td>75.74548</td>\n",
       "      <td>37.532000</td>\n",
       "      <td>0.005518</td>\n",
       "      <td>1.74307</td>\n",
       "      <td>17.222328</td>\n",
       "      <td>4.926396</td>\n",
       "      <td>0.858603</td>\n",
       "      <td>1111.287150</td>\n",
       "      <td>0.003042</td>\n",
       "      <td>A</td>\n",
       "      <td>109.125159</td>\n",
       "      <td>95.415086</td>\n",
       "      <td>52.260480</td>\n",
       "      <td>17.175984</td>\n",
       "      <td>0.296850</td>\n",
       "      <td>6785.003474</td>\n",
       "      <td>10.358927</td>\n",
       "      <td>0.173229</td>\n",
       "      <td>0.49706</td>\n",
       "      <td>0.568932</td>\n",
       "      <td>9.292698</td>\n",
       "      <td>72.611063</td>\n",
       "      <td>27981.562750</td>\n",
       "      <td>29.135430</td>\n",
       "      <td>32.131996</td>\n",
       "      <td>21.978000</td>\n",
       "      <td>0</td>\n",
       "    </tr>\n",
       "    <tr>\n",
       "      <th>2</th>\n",
       "      <td>013f2bd269f5</td>\n",
       "      <td>0.470030</td>\n",
       "      <td>2635.10654</td>\n",
       "      <td>85.200147</td>\n",
       "      <td>32.360553</td>\n",
       "      <td>8.138688</td>\n",
       "      <td>6.732840</td>\n",
       "      <td>0.025578</td>\n",
       "      <td>12.824570</td>\n",
       "      <td>1.229900</td>\n",
       "      <td>5135.78024</td>\n",
       "      <td>26.4825</td>\n",
       "      <td>128.988531</td>\n",
       "      <td>219.320160</td>\n",
       "      <td>482.141594</td>\n",
       "      <td>257.432377</td>\n",
       "      <td>32.563713</td>\n",
       "      <td>0.495852</td>\n",
       "      <td>85.955376</td>\n",
       "      <td>5.376488</td>\n",
       "      <td>0.036218</td>\n",
       "      <td>1.050225</td>\n",
       "      <td>0.700350</td>\n",
       "      <td>39.364743</td>\n",
       "      <td>1.009611</td>\n",
       "      <td>21.459644</td>\n",
       "      <td>70.81970</td>\n",
       "      <td>321.426625</td>\n",
       "      <td>0.23868</td>\n",
       "      <td>0.210441</td>\n",
       "      <td>120.056438</td>\n",
       "      <td>65.46984</td>\n",
       "      <td>28.053464</td>\n",
       "      <td>1.289739</td>\n",
       "      <td>1.74307</td>\n",
       "      <td>36.861352</td>\n",
       "      <td>7.813674</td>\n",
       "      <td>8.146651</td>\n",
       "      <td>1494.076488</td>\n",
       "      <td>0.377208</td>\n",
       "      <td>B</td>\n",
       "      <td>109.125159</td>\n",
       "      <td>78.526968</td>\n",
       "      <td>5.390628</td>\n",
       "      <td>224.207424</td>\n",
       "      <td>8.745201</td>\n",
       "      <td>8338.906181</td>\n",
       "      <td>11.626917</td>\n",
       "      <td>7.709560</td>\n",
       "      <td>0.97556</td>\n",
       "      <td>1.198821</td>\n",
       "      <td>37.077772</td>\n",
       "      <td>88.609437</td>\n",
       "      <td>13676.957810</td>\n",
       "      <td>28.022851</td>\n",
       "      <td>35.192676</td>\n",
       "      <td>0.196941</td>\n",
       "      <td>0</td>\n",
       "    </tr>\n",
       "    <tr>\n",
       "      <th>3</th>\n",
       "      <td>043ac50845d5</td>\n",
       "      <td>0.252107</td>\n",
       "      <td>3819.65177</td>\n",
       "      <td>120.201618</td>\n",
       "      <td>77.112203</td>\n",
       "      <td>8.138688</td>\n",
       "      <td>3.685344</td>\n",
       "      <td>0.025578</td>\n",
       "      <td>11.053708</td>\n",
       "      <td>1.229900</td>\n",
       "      <td>4169.67738</td>\n",
       "      <td>23.6577</td>\n",
       "      <td>237.282264</td>\n",
       "      <td>11.050410</td>\n",
       "      <td>661.518640</td>\n",
       "      <td>257.432377</td>\n",
       "      <td>15.201914</td>\n",
       "      <td>0.717882</td>\n",
       "      <td>88.159360</td>\n",
       "      <td>2.347652</td>\n",
       "      <td>0.029054</td>\n",
       "      <td>1.400300</td>\n",
       "      <td>0.636075</td>\n",
       "      <td>41.116960</td>\n",
       "      <td>0.722727</td>\n",
       "      <td>21.530392</td>\n",
       "      <td>47.27586</td>\n",
       "      <td>196.607985</td>\n",
       "      <td>0.23868</td>\n",
       "      <td>0.292431</td>\n",
       "      <td>139.824570</td>\n",
       "      <td>71.57120</td>\n",
       "      <td>24.354856</td>\n",
       "      <td>2.655345</td>\n",
       "      <td>1.74307</td>\n",
       "      <td>52.003884</td>\n",
       "      <td>7.386060</td>\n",
       "      <td>3.813326</td>\n",
       "      <td>15691.552180</td>\n",
       "      <td>0.614484</td>\n",
       "      <td>B</td>\n",
       "      <td>31.674357</td>\n",
       "      <td>78.526968</td>\n",
       "      <td>31.323372</td>\n",
       "      <td>59.301984</td>\n",
       "      <td>7.884336</td>\n",
       "      <td>10965.766040</td>\n",
       "      <td>14.852022</td>\n",
       "      <td>6.122162</td>\n",
       "      <td>0.49706</td>\n",
       "      <td>0.284466</td>\n",
       "      <td>18.529584</td>\n",
       "      <td>82.416803</td>\n",
       "      <td>2094.262452</td>\n",
       "      <td>39.948656</td>\n",
       "      <td>90.493248</td>\n",
       "      <td>0.155829</td>\n",
       "      <td>0</td>\n",
       "    </tr>\n",
       "    <tr>\n",
       "      <th>4</th>\n",
       "      <td>044fb8a146ec</td>\n",
       "      <td>0.380297</td>\n",
       "      <td>3733.04844</td>\n",
       "      <td>85.200147</td>\n",
       "      <td>14.103738</td>\n",
       "      <td>8.138688</td>\n",
       "      <td>3.942255</td>\n",
       "      <td>0.054810</td>\n",
       "      <td>3.396778</td>\n",
       "      <td>102.151980</td>\n",
       "      <td>5728.73412</td>\n",
       "      <td>24.0108</td>\n",
       "      <td>324.546318</td>\n",
       "      <td>149.717165</td>\n",
       "      <td>6074.859475</td>\n",
       "      <td>257.432377</td>\n",
       "      <td>82.213495</td>\n",
       "      <td>0.536467</td>\n",
       "      <td>72.644264</td>\n",
       "      <td>30.537722</td>\n",
       "      <td>0.025472</td>\n",
       "      <td>1.050225</td>\n",
       "      <td>0.693150</td>\n",
       "      <td>31.724726</td>\n",
       "      <td>0.827550</td>\n",
       "      <td>34.415360</td>\n",
       "      <td>74.06532</td>\n",
       "      <td>200.178160</td>\n",
       "      <td>0.23868</td>\n",
       "      <td>0.207708</td>\n",
       "      <td>97.920120</td>\n",
       "      <td>52.83888</td>\n",
       "      <td>26.019912</td>\n",
       "      <td>1.144902</td>\n",
       "      <td>1.74307</td>\n",
       "      <td>9.064856</td>\n",
       "      <td>7.350720</td>\n",
       "      <td>3.490846</td>\n",
       "      <td>1403.656300</td>\n",
       "      <td>0.164268</td>\n",
       "      <td>B</td>\n",
       "      <td>109.125159</td>\n",
       "      <td>91.994825</td>\n",
       "      <td>51.141336</td>\n",
       "      <td>29.102640</td>\n",
       "      <td>4.274640</td>\n",
       "      <td>16198.049590</td>\n",
       "      <td>13.666727</td>\n",
       "      <td>8.153058</td>\n",
       "      <td>48.50134</td>\n",
       "      <td>0.121914</td>\n",
       "      <td>16.408728</td>\n",
       "      <td>146.109943</td>\n",
       "      <td>8524.370502</td>\n",
       "      <td>45.381316</td>\n",
       "      <td>36.262628</td>\n",
       "      <td>0.096614</td>\n",
       "      <td>1</td>\n",
       "    </tr>\n",
       "  </tbody>\n",
       "</table>\n",
       "</div>"
      ],
      "text/plain": [
       "             Id        AB          AF          AH         AM        AR  \\\n",
       "0  000ff2bfdfe9  0.209377  3109.03329   85.200147  22.394407  8.138688   \n",
       "1  007255e47698  0.145282   978.76416   85.200147  36.968889  8.138688   \n",
       "2  013f2bd269f5  0.470030  2635.10654   85.200147  32.360553  8.138688   \n",
       "3  043ac50845d5  0.252107  3819.65177  120.201618  77.112203  8.138688   \n",
       "4  044fb8a146ec  0.380297  3733.04844   85.200147  14.103738  8.138688   \n",
       "\n",
       "         AX        AY         AZ          BC         BD        BN          BP  \\\n",
       "0  0.699861  0.025578   9.812214    5.555634  4126.58731  22.5984  175.638726   \n",
       "1  3.632190  0.025578  13.517790    1.229900  5496.92824  19.4205  155.868030   \n",
       "2  6.732840  0.025578  12.824570    1.229900  5135.78024  26.4825  128.988531   \n",
       "3  3.685344  0.025578  11.053708    1.229900  4169.67738  23.6577  237.282264   \n",
       "4  3.942255  0.054810   3.396778  102.151980  5728.73412  24.0108  324.546318   \n",
       "\n",
       "           BQ           BR          BZ         CB        CC        CD   \\\n",
       "0  152.707705   823.928241  257.432377  47.223358  0.563481  23.387600   \n",
       "1   14.754720    51.216883  257.432377  30.284345  0.484710  50.628208   \n",
       "2  219.320160   482.141594  257.432377  32.563713  0.495852  85.955376   \n",
       "3   11.050410   661.518640  257.432377  15.201914  0.717882  88.159360   \n",
       "4  149.717165  6074.859475  257.432377  82.213495  0.536467  72.644264   \n",
       "\n",
       "          CF        CH        CL        CR         CS        CU        CW   \\\n",
       "0   4.851915  0.023482  1.050225  0.069225  13.784111  1.302012  36.205956   \n",
       "1   6.085041  0.031442  1.113875  1.117800  28.310953  1.357182  37.476568   \n",
       "2   5.376488  0.036218  1.050225  0.700350  39.364743  1.009611  21.459644   \n",
       "3   2.347652  0.029054  1.400300  0.636075  41.116960  0.722727  21.530392   \n",
       "4  30.537722  0.025472  1.050225  0.693150  31.724726  0.827550  34.415360   \n",
       "\n",
       "         DA          DE       DF        DH          DI        DL         DN  \\\n",
       "0  69.08340  295.570575  0.23868  0.284232   89.245560  84.31664  29.657104   \n",
       "1  70.79836  178.553100  0.23868  0.363489  110.581815  75.74548  37.532000   \n",
       "2  70.81970  321.426625  0.23868  0.210441  120.056438  65.46984  28.053464   \n",
       "3  47.27586  196.607985  0.23868  0.292431  139.824570  71.57120  24.354856   \n",
       "4  74.06532  200.178160  0.23868  0.207708   97.920120  52.83888  26.019912   \n",
       "\n",
       "         DU       DV         DY        EB        EE            EG        EH  \\\n",
       "0  5.310690  1.74307  23.187704  7.294176  1.987283   1433.166750  0.949104   \n",
       "1  0.005518  1.74307  17.222328  4.926396  0.858603   1111.287150  0.003042   \n",
       "2  1.289739  1.74307  36.861352  7.813674  8.146651   1494.076488  0.377208   \n",
       "3  2.655345  1.74307  52.003884  7.386060  3.813326  15691.552180  0.614484   \n",
       "4  1.144902  1.74307   9.064856  7.350720  3.490846   1403.656300  0.164268   \n",
       "\n",
       "  EJ          EL         EP         EU          FC        FD             FE  \\\n",
       "0  B   30.879420  78.526968   3.828384   13.394640  10.265073   9028.291921   \n",
       "1  A  109.125159  95.415086  52.260480   17.175984   0.296850   6785.003474   \n",
       "2  B  109.125159  78.526968   5.390628  224.207424   8.745201   8338.906181   \n",
       "3  B   31.674357  78.526968  31.323372   59.301984   7.884336  10965.766040   \n",
       "4  B  109.125159  91.994825  51.141336   29.102640   4.274640  16198.049590   \n",
       "\n",
       "          FI        FL        FR        FS         GB          GE  \\\n",
       "0   3.583450  7.298162   1.73855  0.094822  11.339138   72.611063   \n",
       "1  10.358927  0.173229   0.49706  0.568932   9.292698   72.611063   \n",
       "2  11.626917  7.709560   0.97556  1.198821  37.077772   88.609437   \n",
       "3  14.852022  6.122162   0.49706  0.284466  18.529584   82.416803   \n",
       "4  13.666727  8.153058  48.50134  0.121914  16.408728  146.109943   \n",
       "\n",
       "             GF         GH         GI         GL  Class  \n",
       "0   2003.810319  22.136229  69.834944   0.120343      1  \n",
       "1  27981.562750  29.135430  32.131996  21.978000      0  \n",
       "2  13676.957810  28.022851  35.192676   0.196941      0  \n",
       "3   2094.262452  39.948656  90.493248   0.155829      0  \n",
       "4   8524.370502  45.381316  36.262628   0.096614      1  "
      ]
     },
     "execution_count": 4,
     "metadata": {},
     "output_type": "execute_result"
    }
   ],
   "source": [
    "data.head()"
   ]
  },
  {
   "cell_type": "markdown",
   "metadata": {},
   "source": [
    "`Class` is the label column indicating if a person has one or more of any of the three medical conditions (i.e,`Class 1`), or none of the three medical conditions (i.e,`Class 0`).\n",
    "Given the features of the dataset, the goal of our model is to predict the value of `Class` for any person."
   ]
  },
  {
   "cell_type": "markdown",
   "metadata": {},
   "source": [
    "# 3. Data Preprocessing"
   ]
  },
  {
   "cell_type": "markdown",
   "metadata": {},
   "source": [
    "### Transform and Split Data"
   ]
  },
  {
   "cell_type": "code",
   "execution_count": 5,
   "metadata": {},
   "outputs": [
    {
     "data": {
      "text/plain": [
       "Index(['Id', 'AB', 'AF', 'AH', 'AM', 'AR', 'AX', 'AY', 'AZ', 'BC', 'BD ', 'BN',\n",
       "       'BP', 'BQ', 'BR', 'BZ', 'CB', 'CC', 'CD ', 'CF', 'CH', 'CL', 'CR', 'CS',\n",
       "       'CU', 'CW ', 'DA', 'DE', 'DF', 'DH', 'DI', 'DL', 'DN', 'DU', 'DV', 'DY',\n",
       "       'EB', 'EE', 'EG', 'EH', 'EL', 'EP', 'EU', 'FC', 'FD ', 'FE', 'FI', 'FL',\n",
       "       'FR', 'FS', 'GB', 'GE', 'GF', 'GH', 'GI', 'GL', 'Class', 'EJ_A',\n",
       "       'EJ_B'],\n",
       "      dtype='object')"
      ]
     },
     "execution_count": 5,
     "metadata": {},
     "output_type": "execute_result"
    }
   ],
   "source": [
    "#convert ej column to one-hot encoding \n",
    "\n",
    "ej_dummy = pd.get_dummies(\n",
    "    data['EJ'],prefix='EJ', dtype=int\n",
    ")\n",
    "\n",
    "with_dummies_df = pd.concat(\n",
    "    [data,ej_dummy],\n",
    "    axis=1\n",
    ")\n",
    "\n",
    "data = with_dummies_df.drop(['EJ'], axis=1)\n",
    "data.columns"
   ]
  },
  {
   "cell_type": "code",
   "execution_count": 30,
   "metadata": {},
   "outputs": [],
   "source": [
    "#split data on a random 80-20 split\n",
    "train, test = train_test_split(data, test_size=0.2, random_state = 1234)"
   ]
  },
  {
   "cell_type": "markdown",
   "metadata": {},
   "source": [
    "### <font color='red'>Remember to go back and do everything you do on the train set on the test set before training.</font> "
   ]
  },
  {
   "cell_type": "markdown",
   "metadata": {},
   "source": [
    "## Training Preprocessing"
   ]
  },
  {
   "cell_type": "markdown",
   "metadata": {},
   "source": [
    "### Dealing with Class Imbalance"
   ]
  },
  {
   "cell_type": "code",
   "execution_count": 31,
   "metadata": {
    "scrolled": true
   },
   "outputs": [
    {
     "data": {
      "image/png": "[encoded data removed]",
      "text/plain": [
       "<Figure size 400x400 with 1 Axes>"
      ]
     },
     "metadata": {
      "image/png": {
       "height": 349,
       "width": 328
      }
     },
     "output_type": "display_data"
    }
   ],
   "source": [
    "dist = train['Class'].value_counts()\n",
    "\n",
    "plt.figure(figsize=(4, 4))\n",
    "plt.pie(dist, labels=[0,1], autopct='%1.1f%%')\n",
    "plt.title('Class Labels')\n",
    "plt.show()"
   ]
  },
  {
   "cell_type": "markdown",
   "metadata": {},
   "source": [
    "#### Downsampling"
   ]
  },
  {
   "cell_type": "code",
   "execution_count": 32,
   "metadata": {},
   "outputs": [],
   "source": [
    "# Separate majority and minority classes\n",
    "majority_class = train[train['Class'] == 0]\n",
    "minority_class = train[train['Class'] == 1]\n",
    "\n",
    "# Downsample the majority class to match the size of the minority class\n",
    "downsampled_majority = resample(majority_class,\n",
    "                                replace=False,     # Without replacement\n",
    "                                n_samples=len(minority_class),  # Match minority class size\n",
    "                                random_state=42)   # For reproducibility\n",
    "\n",
    "# Combine the downsampled majority class with the minority class\n",
    "train = pd.concat([downsampled_majority, minority_class])\n",
    "\n",
    "# Shuffle the data to avoid any order bias\n",
    "train = train.sample(frac=1, random_state=42)"
   ]
  },
  {
   "cell_type": "markdown",
   "metadata": {},
   "source": [
    "### Missing Data"
   ]
  },
  {
   "cell_type": "code",
   "execution_count": 33,
   "metadata": {},
   "outputs": [
    {
     "data": {
      "text/html": [
       "<div>\n",
       "<style scoped>\n",
       "    .dataframe tbody tr th:only-of-type {\n",
       "        vertical-align: middle;\n",
       "    }\n",
       "\n",
       "    .dataframe tbody tr th {\n",
       "        vertical-align: top;\n",
       "    }\n",
       "\n",
       "    .dataframe thead th {\n",
       "        text-align: right;\n",
       "    }\n",
       "</style>\n",
       "<table border=\"1\" class=\"dataframe\">\n",
       "  <thead>\n",
       "    <tr style=\"text-align: right;\">\n",
       "      <th></th>\n",
       "      <th>count</th>\n",
       "      <th>mean</th>\n",
       "      <th>std</th>\n",
       "      <th>min</th>\n",
       "      <th>25%</th>\n",
       "      <th>50%</th>\n",
       "      <th>75%</th>\n",
       "      <th>max</th>\n",
       "    </tr>\n",
       "  </thead>\n",
       "  <tbody>\n",
       "    <tr>\n",
       "      <th>AB</th>\n",
       "      <td>184.0</td>\n",
       "      <td>0.602981</td>\n",
       "      <td>0.675666</td>\n",
       "      <td>0.098279</td>\n",
       "      <td>0.282018</td>\n",
       "      <td>0.418754</td>\n",
       "      <td>0.682078</td>\n",
       "      <td>6.161666</td>\n",
       "    </tr>\n",
       "    <tr>\n",
       "      <th>AF</th>\n",
       "      <td>184.0</td>\n",
       "      <td>4116.521055</td>\n",
       "      <td>2962.048518</td>\n",
       "      <td>192.593280</td>\n",
       "      <td>2495.266840</td>\n",
       "      <td>3730.342880</td>\n",
       "      <td>4979.977035</td>\n",
       "      <td>28688.187660</td>\n",
       "    </tr>\n",
       "    <tr>\n",
       "      <th>AH</th>\n",
       "      <td>184.0</td>\n",
       "      <td>118.145892</td>\n",
       "      <td>113.515872</td>\n",
       "      <td>85.200147</td>\n",
       "      <td>85.200147</td>\n",
       "      <td>85.200147</td>\n",
       "      <td>106.413094</td>\n",
       "      <td>1237.940805</td>\n",
       "    </tr>\n",
       "    <tr>\n",
       "      <th>AM</th>\n",
       "      <td>184.0</td>\n",
       "      <td>57.355741</td>\n",
       "      <td>109.194252</td>\n",
       "      <td>5.562212</td>\n",
       "      <td>14.261685</td>\n",
       "      <td>24.212346</td>\n",
       "      <td>44.788814</td>\n",
       "      <td>630.518230</td>\n",
       "    </tr>\n",
       "    <tr>\n",
       "      <th>AR</th>\n",
       "      <td>184.0</td>\n",
       "      <td>10.206833</td>\n",
       "      <td>5.781580</td>\n",
       "      <td>8.138688</td>\n",
       "      <td>8.138688</td>\n",
       "      <td>8.138688</td>\n",
       "      <td>8.138688</td>\n",
       "      <td>50.253252</td>\n",
       "    </tr>\n",
       "  </tbody>\n",
       "</table>\n",
       "</div>"
      ],
      "text/plain": [
       "    count         mean          std         min          25%          50%  \\\n",
       "AB  184.0     0.602981     0.675666    0.098279     0.282018     0.418754   \n",
       "AF  184.0  4116.521055  2962.048518  192.593280  2495.266840  3730.342880   \n",
       "AH  184.0   118.145892   113.515872   85.200147    85.200147    85.200147   \n",
       "AM  184.0    57.355741   109.194252    5.562212    14.261685    24.212346   \n",
       "AR  184.0    10.206833     5.781580    8.138688     8.138688     8.138688   \n",
       "\n",
       "            75%           max  \n",
       "AB     0.682078      6.161666  \n",
       "AF  4979.977035  28688.187660  \n",
       "AH   106.413094   1237.940805  \n",
       "AM    44.788814    630.518230  \n",
       "AR     8.138688     50.253252  "
      ]
     },
     "execution_count": 33,
     "metadata": {},
     "output_type": "execute_result"
    }
   ],
   "source": [
    "train_summary = train.describe().transpose()\n",
    "train_summary.head()"
   ]
  },
  {
   "cell_type": "markdown",
   "metadata": {},
   "source": [
    "We have 9 columns with missing data, as can be seen below. The columns with the most missing data are BQ and EL, each with 60 null values. Since 60 null values amounts to only about 10% of the dataset, it is reasonable to use imputation to fill the missing values."
   ]
  },
  {
   "cell_type": "code",
   "execution_count": 34,
   "metadata": {
    "scrolled": false
   },
   "outputs": [
    {
     "data": {
      "image/png": "[encoded data removed]",
      "text/plain": [
       "<Figure size 640x480 with 1 Axes>"
      ]
     },
     "metadata": {
      "image/png": {
       "height": 413,
       "width": 543
      }
     },
     "output_type": "display_data"
    },
    {
     "name": "stdout",
     "output_type": "stream",
     "text": [
      "Summary of Columns with Missing Data:\n"
     ]
    },
    {
     "data": {
      "text/html": [
       "<div>\n",
       "<style scoped>\n",
       "    .dataframe tbody tr th:only-of-type {\n",
       "        vertical-align: middle;\n",
       "    }\n",
       "\n",
       "    .dataframe tbody tr th {\n",
       "        vertical-align: top;\n",
       "    }\n",
       "\n",
       "    .dataframe thead th {\n",
       "        text-align: right;\n",
       "    }\n",
       "</style>\n",
       "<table border=\"1\" class=\"dataframe\">\n",
       "  <thead>\n",
       "    <tr style=\"text-align: right;\">\n",
       "      <th></th>\n",
       "      <th>count</th>\n",
       "      <th>mean</th>\n",
       "      <th>std</th>\n",
       "      <th>min</th>\n",
       "      <th>25%</th>\n",
       "      <th>50%</th>\n",
       "      <th>75%</th>\n",
       "      <th>max</th>\n",
       "    </tr>\n",
       "  </thead>\n",
       "  <tbody>\n",
       "    <tr>\n",
       "      <th>BQ</th>\n",
       "      <td>174.0</td>\n",
       "      <td>126.815540</td>\n",
       "      <td>106.279928</td>\n",
       "      <td>2.370550</td>\n",
       "      <td>37.551075</td>\n",
       "      <td>104.263823</td>\n",
       "      <td>165.905286</td>\n",
       "      <td>344.644105</td>\n",
       "    </tr>\n",
       "    <tr>\n",
       "      <th>EL</th>\n",
       "      <td>170.0</td>\n",
       "      <td>73.191329</td>\n",
       "      <td>38.657180</td>\n",
       "      <td>11.072919</td>\n",
       "      <td>33.735702</td>\n",
       "      <td>90.214088</td>\n",
       "      <td>109.125159</td>\n",
       "      <td>109.125159</td>\n",
       "    </tr>\n",
       "  </tbody>\n",
       "</table>\n",
       "</div>"
      ],
      "text/plain": [
       "    count        mean         std        min        25%         50%  \\\n",
       "BQ  174.0  126.815540  106.279928   2.370550  37.551075  104.263823   \n",
       "EL  170.0   73.191329   38.657180  11.072919  33.735702   90.214088   \n",
       "\n",
       "           75%         max  \n",
       "BQ  165.905286  344.644105  \n",
       "EL  109.125159  109.125159  "
      ]
     },
     "execution_count": 34,
     "metadata": {},
     "output_type": "execute_result"
    }
   ],
   "source": [
    "plt.hist(train_summary['count'])\n",
    "plt.show()\n",
    "print(\"Summary of Columns with Missing Data:\")\n",
    "train_summary.loc[train_summary['count'] < 182]"
   ]
  },
  {
   "cell_type": "markdown",
   "metadata": {},
   "source": [
    "Start with simple imputation which will fill missing values with the mean of the other values recorded for that feature. Note that iterative imputation is also possible through sk learn: https://scikit-learn.org/stable/modules/generated/sklearn.impute.IterativeImputer.html#sklearn.impute.IterativeImputer"
   ]
  },
  {
   "cell_type": "code",
   "execution_count": 35,
   "metadata": {},
   "outputs": [],
   "source": [
    "# Identify continuous variables (assuming they are numeric)\n",
    "continuous_vars = train.select_dtypes(include='number').columns\n",
    "\n",
    "# Perform mean imputation for continuous variables\n",
    "train[continuous_vars] = train[continuous_vars].fillna(train[continuous_vars].mean())\n"
   ]
  },
  {
   "cell_type": "code",
   "execution_count": 36,
   "metadata": {
    "scrolled": true
   },
   "outputs": [
    {
     "data": {
      "text/plain": [
       "Series([], dtype: int64)"
      ]
     },
     "execution_count": 36,
     "metadata": {},
     "output_type": "execute_result"
    }
   ],
   "source": [
    "# Check which columns still have missing values \n",
    "sum_null = train.isnull().sum()\n",
    "sum_null[sum_null!=0]"
   ]
  },
  {
   "cell_type": "markdown",
   "metadata": {},
   "source": [
    "### Split Training Set into X and Y"
   ]
  },
  {
   "cell_type": "code",
   "execution_count": 37,
   "metadata": {
    "scrolled": true
   },
   "outputs": [
    {
     "data": {
      "text/plain": [
       "Index(['AB', 'AF', 'AH', 'AM', 'AR', 'AX', 'AY', 'AZ', 'BC', 'BD ', 'BN', 'BP',\n",
       "       'BQ', 'BR', 'BZ', 'CB', 'CC', 'CD ', 'CF', 'CH', 'CL', 'CR', 'CS', 'CU',\n",
       "       'CW ', 'DA', 'DE', 'DF', 'DH', 'DI', 'DL', 'DN', 'DU', 'DV', 'DY', 'EB',\n",
       "       'EE', 'EG', 'EH', 'EL', 'EP', 'EU', 'FC', 'FD ', 'FE', 'FI', 'FL', 'FR',\n",
       "       'FS', 'GB', 'GE', 'GF', 'GH', 'GI', 'GL', 'EJ_A', 'EJ_B'],\n",
       "      dtype='object')"
      ]
     },
     "execution_count": 37,
     "metadata": {},
     "output_type": "execute_result"
    }
   ],
   "source": [
    "columns = train.columns.drop(['Id','Class'])\n",
    "columns"
   ]
  },
  {
   "cell_type": "code",
   "execution_count": 38,
   "metadata": {
    "scrolled": true
   },
   "outputs": [
    {
     "name": "stdout",
     "output_type": "stream",
     "text": [
      "Shape X_train:  (184, 57) \n",
      "Shape X_test:  (124, 57) \n",
      "Shape y_train:  (184,) \n",
      "Shape y_test: (124,)\n"
     ]
    }
   ],
   "source": [
    "# save x_train, y_train, X_test and Y_test as Numpy arrays\n",
    "y_train = train['Class'].values\n",
    "y_test = test['Class'].values\n",
    "\n",
    "X_train = train[columns].values\n",
    "X_test = test[columns].values\n",
    "\n",
    "\n",
    "# # Check the shape of the train and test sets\n",
    "print('Shape X_train: ', X_train.shape, '\\nShape X_test: ', X_test.shape,\n",
    "      '\\nShape y_train: ', y_train.shape, '\\nShape y_test:', y_test.shape)\n",
    "    \n",
    "# print('Shape X_train: ', X_train.shape,\n",
    "#       '\\nShape y_train: ', y_train.shape)"
   ]
  },
  {
   "cell_type": "code",
   "execution_count": 39,
   "metadata": {},
   "outputs": [
    {
     "data": {
      "text/plain": [
       "array([[2.22196000e-01, 1.72037921e+03, 8.52001470e+01, ...,\n",
       "        2.19780000e+01, 1.00000000e+00, 0.00000000e+00],\n",
       "       [1.62374000e-01, 3.30114620e+03, 8.52001470e+01, ...,\n",
       "        1.60380000e+01, 0.00000000e+00, 1.00000000e+00],\n",
       "       [2.52107000e-01, 6.38261448e+03, 4.10629350e+02, ...,\n",
       "        1.71564033e-01, 0.00000000e+00, 1.00000000e+00],\n",
       "       ...,\n",
       "       [7.05045000e-01, 4.17851962e+03, 8.52001470e+01, ...,\n",
       "        2.19780000e+01, 1.00000000e+00, 0.00000000e+00],\n",
       "       [2.35015000e-01, 1.60860062e+03, 1.22518212e+02, ...,\n",
       "        6.97086030e-02, 0.00000000e+00, 1.00000000e+00],\n",
       "       [4.43537400e+00, 4.84361790e+03, 1.23794080e+03, ...,\n",
       "        2.19780000e+01, 1.00000000e+00, 0.00000000e+00]])"
      ]
     },
     "execution_count": 39,
     "metadata": {},
     "output_type": "execute_result"
    }
   ],
   "source": [
    "X_train"
   ]
  },
  {
   "cell_type": "markdown",
   "metadata": {},
   "source": [
    "### Standardize values between 0 and 1"
   ]
  },
  {
   "cell_type": "code",
   "execution_count": 40,
   "metadata": {},
   "outputs": [
    {
     "name": "stdout",
     "output_type": "stream",
     "text": [
      "[[1.23958542e-06 9.59763896e-03 4.75313957e-04 ... 1.22610706e-04\n",
      "  5.57879269e-06 0.00000000e+00]\n",
      " [9.05850884e-07 1.84164103e-02 4.75313957e-04 ... 8.94726771e-05\n",
      "  0.00000000e+00 5.57879269e-06]\n",
      " [1.40645269e-06 3.56072830e-02 2.29081601e-03 ... 9.57120173e-07\n",
      "  0.00000000e+00 5.57879269e-06]\n",
      " ...\n",
      " [3.93329989e-06 2.33110947e-02 4.75313957e-04 ... 1.22610706e-04\n",
      "  5.57879269e-06 0.00000000e+00]\n",
      " [1.31109996e-06 8.97404937e-03 6.83503705e-04 ... 3.88889845e-07\n",
      "  0.00000000e+00 5.57879269e-06]\n",
      " [2.47440320e-05 2.70215401e-02 6.90621511e-03 ... 1.22610706e-04\n",
      "  5.57879269e-06 0.00000000e+00]]\n"
     ]
    }
   ],
   "source": [
    "#normalize all values to be between 0 and 1\n",
    "X_train = (X_train-np.min(X_train))/(np.max(X_train)-np.min(X_train))\n",
    "\n",
    "#view normalized array\n",
    "print(X_train)"
   ]
  },
  {
   "cell_type": "markdown",
   "metadata": {},
   "source": [
    "<font color = 'red'> Note how we fit the normalization? only on the training data, and use the mean and sd parameters to transform the test data later..... </font>"
   ]
  },
  {
   "cell_type": "markdown",
   "metadata": {},
   "source": [
    "# 4. EDA"
   ]
  },
  {
   "cell_type": "markdown",
   "metadata": {},
   "source": [
    "### Data Distribution: Class"
   ]
  },
  {
   "cell_type": "markdown",
   "metadata": {},
   "source": [
    "Note that we have an uneven representation of positive/negative diagnoses."
   ]
  },
  {
   "cell_type": "code",
   "execution_count": 41,
   "metadata": {
    "execution": {
     "iopub.execute_input": "2023-06-05T09:40:33.091986Z",
     "iopub.status.busy": "2023-06-05T09:40:33.091603Z",
     "iopub.status.idle": "2023-06-05T09:40:33.24413Z",
     "shell.execute_reply": "2023-06-05T09:40:33.242331Z",
     "shell.execute_reply.started": "2023-06-05T09:40:33.091951Z"
    },
    "scrolled": false
   },
   "outputs": [
    {
     "data": {
      "image/png": "[encoded data removed]",
      "text/plain": [
       "<Figure size 400x400 with 1 Axes>"
      ]
     },
     "metadata": {
      "image/png": {
       "height": 349,
       "width": 328
      }
     },
     "output_type": "display_data"
    }
   ],
   "source": [
    "unique_elements, counts = np.unique(y_train, return_counts = True)\n",
    "\n",
    "plt.figure(figsize=(4, 4))\n",
    "plt.pie(counts, labels=unique_elements, autopct='%1.1f%%')\n",
    "plt.title('Class Labels')\n",
    "plt.show()"
   ]
  },
  {
   "cell_type": "code",
   "execution_count": 42,
   "metadata": {},
   "outputs": [
    {
     "name": "stdout",
     "output_type": "stream",
     "text": [
      "Element 0 appears 92 times.\n",
      "Element 1 appears 92 times.\n"
     ]
    }
   ],
   "source": [
    "unique_elements, counts = np.unique(y_train, return_counts=True)\n",
    "for element, count in zip(unique_elements, counts):\n",
    "    print(f\"Element {element} appears {count} times.\")"
   ]
  },
  {
   "cell_type": "markdown",
   "metadata": {},
   "source": [
    "### EDA of Training Data"
   ]
  },
  {
   "cell_type": "markdown",
   "metadata": {},
   "source": [
    "### <font color='red'>I think this doesn't work bc I didn't bring along the column names but really who tf knows:\n",
    "\n",
    "</font> "
   ]
  },
  {
   "cell_type": "code",
   "execution_count": 43,
   "metadata": {
    "scrolled": false
   },
   "outputs": [],
   "source": [
    "#This is an attempt to do a heat map\n",
    "\n",
    "# X_df = pd.DataFrame(X_train)\n",
    "\n",
    "# # Identify continuous variables (assuming they are numeric)\n",
    "# continuous_vars = X_df.select_dtypes(include='number').columns\n",
    "\n",
    "# # Perform mean imputation for continuous variables\n",
    "# X_cont = X_df[continuous_vars]\n",
    "\n",
    "\n",
    "# cm = np.corrcoef(X_cont, rowvar = False)\n",
    "# hm = heatmap(\n",
    "#     cm,\n",
    "#     row_names=X_df,\n",
    "#     column_names=variables)"
   ]
  },
  {
   "cell_type": "markdown",
   "metadata": {},
   "source": [
    "# 5. Model"
   ]
  },
  {
   "cell_type": "markdown",
   "metadata": {},
   "source": [
    "## First Attempt: Basic Perceptron\n",
    "\n",
    "<font color = 'turquoise'> \n",
    "\n",
    "    **Turquiose text is from chat GPT**\n",
    "    \n",
    "A basic perceptron is the simplest form of an artificial neural network. It consists of just one neuron (a node) with an input layer and an output layer, and it performs a linear binary classification.\n",
    "\n",
    "The input layer consists of n input features (x1, x2, ..., xn), each represented by a numeric value. The neuron takes these input values, multiplies them by their corresponding weights (w1, w2, ..., wn), and then adds a bias term (b) to produce the weighted sum (also known as the activation). \n",
    "</font>"
   ]
  },
  {
   "cell_type": "markdown",
   "metadata": {},
   "source": [
    "Most basic perceptron option:"
   ]
  },
  {
   "cell_type": "code",
   "execution_count": 47,
   "metadata": {},
   "outputs": [],
   "source": [
    "class Perceptron(object):\n",
    "    \"\"\"Perceptron classifier.\n",
    "\n",
    "    Parameters\n",
    "    ------------\n",
    "    eta : float\n",
    "      Learning rate (between 0.0 and 1.0)\n",
    "    n_iter : int\n",
    "      Passes over the training dataset.\n",
    "    random_state : int\n",
    "      Random number generator seed for random weight\n",
    "      initialization.\n",
    "\n",
    "    Attributes\n",
    "    -----------\n",
    "    w_ : 1d-array\n",
    "      Weights after fitting.\n",
    "    errors_ : list\n",
    "      Number of misclassifications (updates) in each epoch.\n",
    "\n",
    "    \"\"\"\n",
    "    def __init__(self, eta=0.01, n_iter=50, random_state=1234):\n",
    "        self.eta = eta\n",
    "        self.n_iter = n_iter\n",
    "        self.random_state = random_state\n",
    "\n",
    "    def fit(self, X, y):\n",
    "        \"\"\"Fit training data.\n",
    "\n",
    "        Parameters\n",
    "        ----------\n",
    "        X : {array-like}, shape = [n_examples, n_features]\n",
    "          Training vectors, where n_examples is the number of examples and\n",
    "          n_features is the number of features.\n",
    "        y : array-like, shape = [n_examples]\n",
    "          Target values.\n",
    "\n",
    "        Returns\n",
    "        -------\n",
    "        self : object\n",
    "\n",
    "        \"\"\"\n",
    "        rgen = np.random.RandomState(self.random_state)\n",
    "        self.w_ = rgen.normal(loc=0.0, scale=0.01, size=1 + X.shape[1])\n",
    "        self.errors_ = []\n",
    "\n",
    "        for _ in range(self.n_iter):\n",
    "            errors = 0\n",
    "            for xi, target in zip(X, y):\n",
    "                update = self.eta * (target - self.predict(xi))\n",
    "                self.w_[1:] += update * xi\n",
    "                self.w_[0] += update\n",
    "                errors += int(update != 0.0)\n",
    "            self.errors_.append(errors)\n",
    "        return self\n",
    "\n",
    "    def net_input(self, X):\n",
    "        \"\"\"Calculate net input\"\"\"\n",
    "        return np.dot(X, self.w_[1:]) + self.w_[0]\n",
    "\n",
    "    def predict(self, X):\n",
    "        \"\"\"Return class label after unit step\"\"\"\n",
    "        return np.where(self.net_input(X) >= 0.0, 1, -1)"
   ]
  },
  {
   "cell_type": "markdown",
   "metadata": {},
   "source": [
    "Train the perceptron:"
   ]
  },
  {
   "cell_type": "code",
   "execution_count": 48,
   "metadata": {},
   "outputs": [
    {
     "data": {
      "image/png": "[encoded data removed]",
      "text/plain": [
       "<Figure size 640x480 with 1 Axes>"
      ]
     },
     "metadata": {
      "image/png": {
       "height": 432,
       "width": 571
      }
     },
     "output_type": "display_data"
    }
   ],
   "source": [
    "ppn = Perceptron(eta=0.0001, n_iter=100)\n",
    "\n",
    "ppn.fit(X_train, y_train)\n",
    "\n",
    "plt.plot(range(1, len(ppn.errors_) + 1), ppn.errors_, marker='o')\n",
    "plt.xlabel('Epochs')\n",
    "plt.ylabel('Number of updates')\n",
    "\n",
    "# plt.savefig('images/02_07.png', dpi=300)\n",
    "plt.show()"
   ]
  },
  {
   "cell_type": "markdown",
   "metadata": {},
   "source": [
    "Based on the massive error rate, it seems the model isn't converging and therefore the data is not perfectly linearly separable. We can reduce the number of features in the model to try to achieve linear separability."
   ]
  },
  {
   "cell_type": "code",
   "execution_count": null,
   "metadata": {},
   "outputs": [],
   "source": []
  },
  {
   "cell_type": "code",
   "execution_count": null,
   "metadata": {},
   "outputs": [],
   "source": []
  },
  {
   "cell_type": "code",
   "execution_count": null,
   "metadata": {},
   "outputs": [],
   "source": []
  },
  {
   "cell_type": "code",
   "execution_count": null,
   "metadata": {},
   "outputs": [],
   "source": []
  },
  {
   "cell_type": "code",
   "execution_count": null,
   "metadata": {},
   "outputs": [],
   "source": []
  },
  {
   "cell_type": "code",
   "execution_count": null,
   "metadata": {},
   "outputs": [],
   "source": []
  },
  {
   "cell_type": "markdown",
   "metadata": {},
   "source": [
    "Alternative, more flexible option is to make a perceptron using a tensorflow code/architecture:"
   ]
  },
  {
   "cell_type": "code",
   "execution_count": 46,
   "metadata": {},
   "outputs": [],
   "source": [
    "def perceptron_tfmodel(num_features, activation = 'sigmoid', learning_rate = 0.001, optimizer = 'SGD'):\n",
    "    \n",
    "    #clear session and set random seed for consistent behavior\n",
    "    tf.keras.backend.clear_session()\n",
    "    tf.random.set_seed(1234)\n",
    "    \n",
    "    #Build model using Keras Sequential API\n",
    "    model = tf.keras.Sequential([\n",
    "        tf.keras.layers.Dense(1, activation = activation, input_shape = (num_features,))\n",
    "    ])\n",
    "    \n",
    "    #set up optimizer\n",
    "    sgd_optimizer = tf.keras.optimizers.SGD(learning_rate = learning_rate)\n",
    "    adam_optimizer = tf.keras.optimizers.Adam(learning_rate = learning_rate)\n",
    "    if optimizer == 'Adam':\n",
    "        optimizer = adam_optimizer\n",
    "    else:\n",
    "        optimizer = sgd_optimizer\n",
    "    \n",
    "    #compile model\n",
    "    model.compile(optimizer=optimizer,\n",
    "                  loss='binary_crossentropy',  # Binary cross-entropy loss for binary classification\n",
    "                  metrics=[tf.keras.metrics.AUC()])\n",
    "    \n",
    "    return model"
   ]
  },
  {
   "cell_type": "code",
   "execution_count": 28,
   "metadata": {},
   "outputs": [
    {
     "name": "stdout",
     "output_type": "stream",
     "text": [
      "Metal device set to: Apple M2\n"
     ]
    },
    {
     "name": "stderr",
     "output_type": "stream",
     "text": [
      "2023-08-06 14:37:44.244619: I tensorflow/core/common_runtime/pluggable_device/pluggable_device_factory.cc:306] Could not identify NUMA node of platform GPU ID 0, defaulting to 0. Your kernel may not have been built with NUMA support.\n",
      "2023-08-06 14:37:44.244702: I tensorflow/core/common_runtime/pluggable_device/pluggable_device_factory.cc:272] Created TensorFlow device (/job:localhost/replica:0/task:0/device:GPU:0 with 0 MB memory) -> physical PluggableDevice (device: 0, name: METAL, pci bus id: <undefined>)\n"
     ]
    }
   ],
   "source": [
    "model = perceptron_tfmodel(num_features = X_train.shape[1], learning_rate = 0.01)"
   ]
  },
  {
   "cell_type": "code",
   "execution_count": null,
   "metadata": {},
   "outputs": [],
   "source": [
    "#Fit the model\n",
    "tf.random.set_seed(1234)\n",
    "np.random.seed(1234)\n",
    "# Train model\n",
    "hist= model.fit(x=X_train,\n",
    "                y=y_train,\n",
    "                validation_split=0.2, # set 20% of train data for validation\n",
    "                batch_size= 10,\n",
    "                epochs=50,\n",
    "                verbose=1 #silence fit\n",
    ")"
   ]
  },
  {
   "cell_type": "code",
   "execution_count": null,
   "metadata": {},
   "outputs": [],
   "source": [
    "# grab history\n",
    "history = hist.history\n",
    "\n",
    "# plot loss for train and validation\n",
    "fig = plt.figure(figsize=(16, 4))\n",
    "ax = fig.add_subplot(1, 3, 1)\n",
    "plt.plot(history['loss'], lw=2, color='darkgoldenrod')\n",
    "plt.plot(history['val_loss'], lw=2, color='indianred')\n",
    "plt.legend(['Train', 'Validation'], fontsize=10)\n",
    "ax.set_xlabel('Epochs', size=10)\n",
    "ax.set_title('Loss');\n",
    "\n",
    "# plot accuracy for train and validation\n",
    "ax = fig.add_subplot(1, 3, 2)\n",
    "plt.plot(history['auc'], lw=2, color='darkgoldenrod')\n",
    "plt.plot(history['val_auc'], lw=2, color='indianred')\n",
    "plt.legend(['Train', 'Validation'], fontsize=10)\n",
    "ax.set_xlabel('Epochs', size=10)\n",
    "ax.set_title('AUC');"
   ]
  },
  {
   "cell_type": "markdown",
   "metadata": {},
   "source": [
    "# Multilater Perceptron ???"
   ]
  },
  {
   "cell_type": "markdown",
   "metadata": {},
   "source": [
    "The commented out shit is not done and your basic perceptron SUCKSSSSSSS. You should prolly reduce the number of features."
   ]
  },
  {
   "cell_type": "code",
   "execution_count": null,
   "metadata": {},
   "outputs": [],
   "source": [
    "def mlp_tfmodel(num_features, activation = 'sigmoid', learning_rate = 0.001, optimizer = 'SGD'):\n",
    "    \n",
    "    #clear session and set random seed for consistent behavior\n",
    "    tf.keras.backend.clear_session()\n",
    "    tf.random.set_seed(1234)\n",
    "    \n",
    "    #Build model using Keras Sequential API\n",
    "    model = tf.keras.Sequential([\n",
    "        tf.keras.layers.Dense(1, activation = activation, input_shape = (num_features,))\n",
    "    ])\n",
    "    \n",
    "#     #add hidden layers\n",
    "#     for hidden_layer_size in hidden_layer_sizes:\n",
    "#       model.add(tf.keras.layers.Dense(units=hidden_layer_size,\n",
    "#                                       activation=activation))\n",
    "#     #add output layer\n",
    "#     model.add(tf.keras.layers.Dense(units=n_classes, activation = 'softmax', name='Output'))\n",
    "    \n",
    "    #set up optimizer\n",
    "    sgd_optimizer = tf.keras.optimizers.SGD(learning_rate = learning_rate)\n",
    "    adam_optimizer = tf.keras.optimizers.Adam(learning_rate = learning_rate)\n",
    "    if optimizer == 'Adam':\n",
    "        optimizer = adam_optimizer\n",
    "    else:\n",
    "        optimizer = sgd_optimizer\n",
    "    \n",
    "    #compile model\n",
    "    model.compile(optimizer=optimizer,\n",
    "                  loss='binary_crossentropy',  # Binary cross-entropy loss for binary classification\n",
    "                  metrics=[tf.keras.metrics.AUC()])\n",
    "    \n",
    "    return model"
   ]
  },
  {
   "cell_type": "markdown",
   "metadata": {},
   "source": [
    "## Notes"
   ]
  },
  {
   "cell_type": "markdown",
   "metadata": {},
   "source": [
    "Consider reducing dimensionality of data using PCA"
   ]
  },
  {
   "cell_type": "markdown",
   "metadata": {},
   "source": [
    "Weight classes: \n",
    "    \n",
    "    # Weight the classes\n",
    "neg, pos = np.bincount(train_df_pca['Class'])\n",
    "total = neg + pos\n",
    "\n",
    "weight_for_0 = (1 / neg) * (total / 2.0)\n",
    "weight_for_1 = (1 / pos) * (total / 2.0)\n",
    "\n",
    "class_weight = {0: weight_for_0, 1: weight_for_1}\n",
    "\n",
    "print('Weight for class 0: {:.2f}'.format(weight_for_0))\n",
    "print('Weight for class 1: {:.2f}'.format(weight_for_1))\n",
    "\n",
    "\n",
    "OR use Tensorflow code for it: \n",
    "\n",
    "history = rf.fit(train_ds, class_weight=class_weight)\n",
    "\n",
    "Run model: \n",
    "\n",
    "rf = RandomForestClassifier(class_weight=class_weight,oob_score=True,random_state=42,criterion='entropy')"
   ]
  }
 ],
 "metadata": {
  "kernelspec": {
   "display_name": "w207",
   "language": "python",
   "name": "w207"
  },
  "language_info": {
   "codemirror_mode": {
    "name": "ipython",
    "version": 3
   },
   "file_extension": ".py",
   "mimetype": "text/x-python",
   "name": "python",
   "nbconvert_exporter": "python",
   "pygments_lexer": "ipython3",
   "version": "3.9.16"
  }
 },
 "nbformat": 4,
 "nbformat_minor": 4
}
